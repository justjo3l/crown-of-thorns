{
 "cells": [
  {
   "cell_type": "markdown",
   "metadata": {},
   "source": [
    "## Import packages"
   ]
  },
  {
   "cell_type": "code",
   "execution_count": 1,
   "metadata": {},
   "outputs": [],
   "source": [
    "import numpy as np\n",
    "import pandas as pd\n",
    "import matplotlib.pyplot as plt\n",
    "import cv2\n",
    "import os\n",
    "from sklearn.model_selection import train_test_split\n",
    "import random\n",
    "import shutil"
   ]
  },
  {
   "cell_type": "markdown",
   "metadata": {},
   "source": [
    "## Random Images Selection Functions\n",
    "- get_random_images() => Get random images from a folder of images\n",
    "- store_images() => Store images using image paths in folder 'test_images'"
   ]
  },
  {
   "cell_type": "code",
   "execution_count": 2,
   "metadata": {},
   "outputs": [],
   "source": [
    "def get_random_images(image_folder, num_images):\n",
    "    image_paths = []\n",
    "    while (len(image_paths) < num_images):\n",
    "        for dir1 in os.listdir(image_folder):\n",
    "            for dir2 in os.listdir(os.path.join(image_folder, dir1)):\n",
    "                image_path = os.path.join(image_folder, dir1, dir2)\n",
    "                if (random.randint(0,10000) > 9999 and len(image_paths) < 10):\n",
    "                    image_paths.append(image_path)\n",
    "\n",
    "    return image_paths"
   ]
  },
  {
   "cell_type": "code",
   "execution_count": 3,
   "metadata": {},
   "outputs": [],
   "source": [
    "def store_images(image_paths):\n",
    "    os.makedirs('test_images')\n",
    "    for i in range(0, len(image_paths)):\n",
    "        shutil.copy(image_paths[i], 'test_images')"
   ]
  },
  {
   "cell_type": "markdown",
   "metadata": {},
   "source": [
    "### Select random images from train_images and store in test_images\n",
    "Make sure 'test_images' directory does not exist when running this"
   ]
  },
  {
   "cell_type": "code",
   "execution_count": 4,
   "metadata": {},
   "outputs": [
    {
     "name": "stdout",
     "output_type": "stream",
     "text": [
      "['train_images/video_2/10321.jpg', 'train_images/video_1/6593.jpg', 'train_images/video_0/4450.jpg', 'train_images/video_0/12277.jpg', 'train_images/video_1/505.jpg', 'train_images/video_1/237.jpg', 'train_images/video_0/6211.jpg', 'train_images/video_2/8577.jpg', 'train_images/video_2/9842.jpg', 'train_images/video_1/9497.jpg']\n"
     ]
    }
   ],
   "source": [
    "num_of_test_images = 10     # Change this to the number of images you want to test\n",
    "\n",
    "test_images = get_random_images('train_images', num_of_test_images)\n",
    "store_images(test_images)\n",
    "print(test_images)"
   ]
  },
  {
   "cell_type": "markdown",
   "metadata": {},
   "source": [
    "## Login to Weights & Biases AI and download model weights to detect with"
   ]
  },
  {
   "cell_type": "code",
   "execution_count": 5,
   "metadata": {},
   "outputs": [
    {
     "name": "stderr",
     "output_type": "stream",
     "text": [
      "Failed to detect the name of this notebook, you can set it manually with the WANDB_NOTEBOOK_NAME environment variable to enable code saving.\n",
      "\u001b[34m\u001b[1mwandb\u001b[0m: Currently logged in as: \u001b[33mjustjo3l\u001b[0m. Use \u001b[1m`wandb login --relogin`\u001b[0m to force relogin\n",
      "\u001b[34m\u001b[1mwandb\u001b[0m: \u001b[33mWARNING\u001b[0m If you're specifying your api key in code, ensure this code is not shared publicly.\n",
      "\u001b[34m\u001b[1mwandb\u001b[0m: \u001b[33mWARNING\u001b[0m Consider setting the WANDB_API_KEY environment variable, or running `wandb login` from the command line.\n",
      "\u001b[34m\u001b[1mwandb\u001b[0m: Appending key for api.wandb.ai to your netrc file: /Users/joeljose/.netrc\n"
     ]
    },
    {
     "name": "stdout",
     "output_type": "stream",
     "text": [
      "Logged in!\n"
     ]
    }
   ],
   "source": [
    "import wandb\n",
    "\n",
    "try:\n",
    "    api_key = \"f72dca236cb3497e771bf6c5ea119c25fcfb1b10\"\n",
    "    wandb.login(key=api_key)\n",
    "    anonymous = None\n",
    "    print('Logged in!')\n",
    "except:\n",
    "    wandb.login(anonymous='must')\n",
    "    print('To use your W&B account,\\nGo to Add-ons -> Secrets and provide your W&B access token. Use the Label name as WANDB. \\nGet your W&B access token from here: https://wandb.ai/authorize')"
   ]
  },
  {
   "cell_type": "markdown",
   "metadata": {},
   "source": [
    "### Install weights in artifacts directory\n",
    "NOTE: Remove the ':v0' in the downloaded model directory name"
   ]
  },
  {
   "cell_type": "code",
   "execution_count": 6,
   "metadata": {},
   "outputs": [
    {
     "data": {
      "text/html": [
       "Tracking run with wandb version 0.13.5"
      ],
      "text/plain": [
       "<IPython.core.display.HTML object>"
      ]
     },
     "metadata": {},
     "output_type": "display_data"
    },
    {
     "data": {
      "text/html": [
       "Run data is saved locally in <code>/Users/joeljose/Desktop/Coding Projects/python/comp9517/project/Crown-of-Throrns/wandb/run-20221117_134719-6uqkigir</code>"
      ],
      "text/plain": [
       "<IPython.core.display.HTML object>"
      ]
     },
     "metadata": {},
     "output_type": "display_data"
    },
    {
     "data": {
      "text/html": [
       "Syncing run <strong><a href=\"https://wandb.ai/justjo3l/Crown-of-Throrns/runs/6uqkigir\" target=\"_blank\">jumping-lake-3</a></strong> to <a href=\"https://wandb.ai/justjo3l/Crown-of-Throrns\" target=\"_blank\">Weights & Biases</a> (<a href=\"https://wandb.me/run\" target=\"_blank\">docs</a>)<br/>"
      ],
      "text/plain": [
       "<IPython.core.display.HTML object>"
      ]
     },
     "metadata": {},
     "output_type": "display_data"
    },
    {
     "name": "stderr",
     "output_type": "stream",
     "text": [
      "\u001b[34m\u001b[1mwandb\u001b[0m: Downloading large artifact run_1w24g32k_model:v0, 315.54MB. 1 files... \n",
      "\u001b[34m\u001b[1mwandb\u001b[0m:   1 of 1 files downloaded.  \n",
      "Done. 0:0:0.2\n"
     ]
    },
    {
     "name": "stdout",
     "output_type": "stream",
     "text": [
      "./artifacts/run_1w24g32k_model:v0\n"
     ]
    }
   ],
   "source": [
    "run = wandb.init()\n",
    "artifact = run.use_artifact('justjo3l/YOLOR/run_1w24g32k_model:v0', type='model')\n",
    "artifact_dir = artifact.download()\n",
    "print(artifact_dir)"
   ]
  },
  {
   "cell_type": "markdown",
   "metadata": {},
   "source": [
    "## Clone YOLOv7 git repo and install requirements\n",
    "NOTE: Replace the detect.py in yolov7 with the detect.py in the Crown-Of-Throrns repository to get COTS count and differently colored bounding boxes for individual COTS"
   ]
  },
  {
   "cell_type": "code",
   "execution_count": 7,
   "metadata": {},
   "outputs": [
    {
     "name": "stdout",
     "output_type": "stream",
     "text": [
      "rm: yolov7: No such file or directory\n",
      "Cloning into 'yolov7'...\n",
      "remote: Enumerating objects: 998, done.\u001b[K\n",
      "remote: Total 998 (delta 0), reused 0 (delta 0), pack-reused 998\u001b[K\n",
      "Receiving objects: 100% (998/998), 69.77 MiB | 16.88 MiB/s, done.\n",
      "Resolving deltas: 100% (466/466), done.\n",
      "/Users/joeljose/Desktop/Coding Projects/python/comp9517/project/Crown-of-Throrns/yolov7\n",
      "Note: you may need to restart the kernel to use updated packages.\n"
     ]
    }
   ],
   "source": [
    "!rm -r yolov7\n",
    "!git clone https://github.com/WongKinYiu/yolov7.git # clone\n",
    "%cd yolov7\n",
    "%pip install -qr requirements.txt  # install"
   ]
  },
  {
   "cell_type": "markdown",
   "metadata": {},
   "source": [
    "#### Change directory to yolov7/"
   ]
  },
  {
   "cell_type": "code",
   "execution_count": 8,
   "metadata": {},
   "outputs": [
    {
     "name": "stdout",
     "output_type": "stream",
     "text": [
      "[Errno 2] No such file or directory: 'yolov7'\n",
      "/Users/joeljose/Desktop/Coding Projects/python/comp9517/project/Crown-of-Throrns/yolov7\n"
     ]
    }
   ],
   "source": [
    "%cd yolov7"
   ]
  },
  {
   "cell_type": "markdown",
   "metadata": {},
   "source": [
    "## Run detection on images in test_images\n",
    "Results will be stored in the yolov7/runs/detect/exp folders"
   ]
  },
  {
   "cell_type": "code",
   "execution_count": 10,
   "metadata": {},
   "outputs": [
    {
     "name": "stdout",
     "output_type": "stream",
     "text": [
      "Namespace(weights=['../artifacts/run_1w24g32k_model/best.pt'], source='../test_images', img_size=640, conf_thres=0.1, iou_thres=0.45, device='', view_img=False, save_txt=False, save_conf=False, nosave=False, classes=None, agnostic_nms=False, augment=False, update=False, project='runs/detect', name='exp', exist_ok=False, no_trace=False)\n",
      "YOLOR 🚀 2022-11-17 torch 1.13.0 CPU\n",
      "\n",
      "Fusing layers... \n",
      "IAuxDetect.fuse\n",
      "[W NNPACK.cpp:53] Could not initialize NNPACK! Reason: Unsupported hardware.\n",
      "/Users/joeljose/opt/anaconda3/envs/cotsenv/lib/python3.9/site-packages/torch/functional.py:504: UserWarning: torch.meshgrid: in an upcoming release, it will be required to pass the indexing argument. (Triggered internally at /Users/runner/work/pytorch/pytorch/pytorch/aten/src/ATen/native/TensorShape.cpp:3191.)\n",
      "  return _VF.meshgrid(tensors, **kwargs)  # type: ignore[attr-defined]\n",
      "Model Summary: 819 layers, 164816216 parameters, 0 gradients, 225.4 GFLOPS\n",
      " Convert model to Traced-model... \n",
      " traced_script_module saved! \n",
      " model is traced! \n",
      "\n",
      "Done. (3849.0ms) Inference, (6.9ms) NMS\n",
      " The image with the result is saved in: runs/detect/exp2/10321.jpg\n",
      "Done. (3286.7ms) Inference, (0.1ms) NMS\n",
      " The image with the result is saved in: runs/detect/exp2/12277.jpg\n",
      "Done. (1433.9ms) Inference, (0.1ms) NMS\n",
      " The image with the result is saved in: runs/detect/exp2/237.jpg\n",
      "1 cots, Done. (1458.4ms) Inference, (5.7ms) NMS\n",
      " The image with the result is saved in: runs/detect/exp2/4450.jpg\n",
      "Done. (1436.9ms) Inference, (0.1ms) NMS\n",
      " The image with the result is saved in: runs/detect/exp2/505.jpg\n",
      "Done. (1469.4ms) Inference, (0.1ms) NMS\n",
      " The image with the result is saved in: runs/detect/exp2/6211.jpg\n",
      "Done. (1481.7ms) Inference, (0.1ms) NMS\n",
      " The image with the result is saved in: runs/detect/exp2/6593.jpg\n",
      "Done. (1419.3ms) Inference, (0.1ms) NMS\n",
      " The image with the result is saved in: runs/detect/exp2/8577.jpg\n",
      "1 cots, Done. (1446.3ms) Inference, (1.0ms) NMS\n",
      " The image with the result is saved in: runs/detect/exp2/9497.jpg\n",
      "1 cots, Done. (1467.1ms) Inference, (0.5ms) NMS\n",
      " The image with the result is saved in: runs/detect/exp2/9842.jpg\n",
      "Done. (19.122s)\n"
     ]
    }
   ],
   "source": [
    "!python detect.py --weights ../artifacts/run_1w24g32k_model/best.pt --conf 0.1 --source ../test_images"
   ]
  }
 ],
 "metadata": {
  "kernelspec": {
   "display_name": "Python 3.9.7 ('cotsenv')",
   "language": "python",
   "name": "python3"
  },
  "language_info": {
   "codemirror_mode": {
    "name": "ipython",
    "version": 3
   },
   "file_extension": ".py",
   "mimetype": "text/x-python",
   "name": "python",
   "nbconvert_exporter": "python",
   "pygments_lexer": "ipython3",
   "version": "3.9.7"
  },
  "orig_nbformat": 4,
  "vscode": {
   "interpreter": {
    "hash": "abbac26dc339ae0588c7ffd52f5050e511888da33c6bde075b35c45e09f0f307"
   }
  }
 },
 "nbformat": 4,
 "nbformat_minor": 2
}

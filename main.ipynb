{
 "cells": [
  {
   "cell_type": "code",
   "execution_count": 1,
   "metadata": {},
   "outputs": [],
   "source": [
    "import numpy as np\n",
    "import pandas as pd\n",
    "import matplotlib.pyplot as plt\n",
    "import cv2\n",
    "import os"
   ]
  },
  {
   "cell_type": "code",
   "execution_count": 2,
   "metadata": {},
   "outputs": [],
   "source": [
    "def get_size(image_path):\n",
    "    image = cv2.imread(image_path, cv2.COLOR_BGR2RGB)\n",
    "    image = np.array(image)\n",
    "    image = image.astype('float32') / 255\n",
    "    return image.shape"
   ]
  },
  {
   "cell_type": "code",
   "execution_count": 21,
   "metadata": {},
   "outputs": [],
   "source": [
    "def num_images(image_path):\n",
    "    count = 0\n",
    "    for dir1 in os.listdir(image_path):\n",
    "        count += len(os.listdir(os.path.join(image_path, dir1)))\n",
    "    return count"
   ]
  },
  {
   "cell_type": "code",
   "execution_count": 22,
   "metadata": {},
   "outputs": [
    {
     "name": "stdout",
     "output_type": "stream",
     "text": [
      "Height: 720, Width: 1280\n",
      "Training data size: 23501\n"
     ]
    }
   ],
   "source": [
    "image_height = get_size('train_images/video_0/0.jpg')[0]    # 720\n",
    "image_width = get_size('train_images/video_0/0.jpg')[1]     # 1280\n",
    "print(f\"Height: {image_height}, Width: {image_width}\")\n",
    "print(f\"Training data size: {num_images('train_images')}\")  # 23501"
   ]
  },
  {
   "cell_type": "code",
   "execution_count": 8,
   "metadata": {},
   "outputs": [],
   "source": [
    "def create_dataset(image_folder):\n",
    "    image_data = []\n",
    "    class_names = []\n",
    "\n",
    "    for dir1 in os.listdir(image_folder):\n",
    "        for dir2 in os.listdir(os.path.join(image_folder, dir1)):\n",
    "            image_path = os.path.join(image_folder, dir1, dir2)\n",
    "            image = cv2.imread(image_path, cv2.COLOR_BGR2RGB)\n",
    "            image = cv2.resize(image, (image_height, image_width), interpolation = cv2.INTER_AREA)\n",
    "            image = np.array(image)\n",
    "            image = image.astype('float32') / 255\n",
    "            image_data.append(image)\n",
    "            class_names.append(dir1)\n",
    "\n",
    "    return image_data, class_names\n"
   ]
  },
  {
   "cell_type": "code",
   "execution_count": 9,
   "metadata": {},
   "outputs": [],
   "source": [
    "image_data, class_names = create_dataset('train_images')"
   ]
  }
 ],
 "metadata": {
  "kernelspec": {
   "display_name": "Python 3.9.7 ('cotsenv')",
   "language": "python",
   "name": "python3"
  },
  "language_info": {
   "codemirror_mode": {
    "name": "ipython",
    "version": 3
   },
   "file_extension": ".py",
   "mimetype": "text/x-python",
   "name": "python",
   "nbconvert_exporter": "python",
   "pygments_lexer": "ipython3",
   "version": "3.9.7"
  },
  "orig_nbformat": 4,
  "vscode": {
   "interpreter": {
    "hash": "abbac26dc339ae0588c7ffd52f5050e511888da33c6bde075b35c45e09f0f307"
   }
  }
 },
 "nbformat": 4,
 "nbformat_minor": 2
}

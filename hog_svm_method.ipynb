{
 "cells": [
  {
   "cell_type": "markdown",
   "id": "05621be8",
   "metadata": {},
   "source": [
    "## Import packages"
   ]
  },
  {
   "cell_type": "code",
   "execution_count": 3,
   "id": "952c059a",
   "metadata": {},
   "outputs": [],
   "source": [
    "import numpy as np\n",
    "import pandas as pd\n",
    "import matplotlib.pyplot as plt\n",
    "import cv2\n",
    "import os\n",
    "from skimage.feature import hog\n",
    "from sklearn.svm import LinearSVC\n",
    "import math\n",
    "from sklearn.metrics import accuracy_score, fbeta_score, precision_score, recall_score\n",
    "import shutil\n",
    "import random\n"
   ]
  },
  {
   "cell_type": "markdown",
   "id": "341b0dc3",
   "metadata": {},
   "source": [
    "### Defining split ratio for training and testing"
   ]
  },
  {
   "cell_type": "code",
   "execution_count": 4,
   "id": "6ddec2d4",
   "metadata": {},
   "outputs": [],
   "source": [
    "# split data\n",
    "ratio = 0.8\n",
    "size = 1000\n",
    "split_ratio = math.floor(ratio * size)\n",
    "\n",
    "data = pd.read_csv('./train.csv')\n",
    "data = data[['video_id', 'video_frame', 'annotations']]\n",
    "data[\"annotations\"] = data[\"annotations\"].map(lambda x: eval(x))"
   ]
  },
  {
   "cell_type": "markdown",
   "id": "fac8c2e9",
   "metadata": {},
   "source": [
    "### Storing COTS count per image"
   ]
  },
  {
   "cell_type": "code",
   "execution_count": 5,
   "id": "2d45e6df",
   "metadata": {},
   "outputs": [
    {
     "name": "stderr",
     "output_type": "stream",
     "text": [
      "/var/folders/77/0t0g2h210_19tdxlx4g8f3yc0000gn/T/ipykernel_99777/3157417638.py:3: SettingWithCopyWarning: \n",
      "A value is trying to be set on a copy of a slice from a DataFrame\n",
      "\n",
      "See the caveats in the documentation: https://pandas.pydata.org/pandas-docs/stable/user_guide/indexing.html#returning-a-view-versus-a-copy\n",
      "  data['count'][i] = len(data['annotations'][i])\n"
     ]
    },
    {
     "data": {
      "text/html": [
       "<div>\n",
       "<style scoped>\n",
       "    .dataframe tbody tr th:only-of-type {\n",
       "        vertical-align: middle;\n",
       "    }\n",
       "\n",
       "    .dataframe tbody tr th {\n",
       "        vertical-align: top;\n",
       "    }\n",
       "\n",
       "    .dataframe thead th {\n",
       "        text-align: right;\n",
       "    }\n",
       "</style>\n",
       "<table border=\"1\" class=\"dataframe\">\n",
       "  <thead>\n",
       "    <tr style=\"text-align: right;\">\n",
       "      <th></th>\n",
       "      <th>video_id</th>\n",
       "      <th>video_frame</th>\n",
       "      <th>annotations</th>\n",
       "      <th>count</th>\n",
       "    </tr>\n",
       "  </thead>\n",
       "  <tbody>\n",
       "    <tr>\n",
       "      <th>0</th>\n",
       "      <td>0</td>\n",
       "      <td>0</td>\n",
       "      <td>[]</td>\n",
       "      <td>0</td>\n",
       "    </tr>\n",
       "    <tr>\n",
       "      <th>1</th>\n",
       "      <td>0</td>\n",
       "      <td>1</td>\n",
       "      <td>[]</td>\n",
       "      <td>0</td>\n",
       "    </tr>\n",
       "    <tr>\n",
       "      <th>2</th>\n",
       "      <td>0</td>\n",
       "      <td>2</td>\n",
       "      <td>[]</td>\n",
       "      <td>0</td>\n",
       "    </tr>\n",
       "    <tr>\n",
       "      <th>3</th>\n",
       "      <td>0</td>\n",
       "      <td>3</td>\n",
       "      <td>[]</td>\n",
       "      <td>0</td>\n",
       "    </tr>\n",
       "    <tr>\n",
       "      <th>4</th>\n",
       "      <td>0</td>\n",
       "      <td>4</td>\n",
       "      <td>[]</td>\n",
       "      <td>0</td>\n",
       "    </tr>\n",
       "    <tr>\n",
       "      <th>...</th>\n",
       "      <td>...</td>\n",
       "      <td>...</td>\n",
       "      <td>...</td>\n",
       "      <td>...</td>\n",
       "    </tr>\n",
       "    <tr>\n",
       "      <th>23496</th>\n",
       "      <td>2</td>\n",
       "      <td>10755</td>\n",
       "      <td>[]</td>\n",
       "      <td>0</td>\n",
       "    </tr>\n",
       "    <tr>\n",
       "      <th>23497</th>\n",
       "      <td>2</td>\n",
       "      <td>10756</td>\n",
       "      <td>[]</td>\n",
       "      <td>0</td>\n",
       "    </tr>\n",
       "    <tr>\n",
       "      <th>23498</th>\n",
       "      <td>2</td>\n",
       "      <td>10757</td>\n",
       "      <td>[]</td>\n",
       "      <td>0</td>\n",
       "    </tr>\n",
       "    <tr>\n",
       "      <th>23499</th>\n",
       "      <td>2</td>\n",
       "      <td>10758</td>\n",
       "      <td>[]</td>\n",
       "      <td>0</td>\n",
       "    </tr>\n",
       "    <tr>\n",
       "      <th>23500</th>\n",
       "      <td>2</td>\n",
       "      <td>10759</td>\n",
       "      <td>[]</td>\n",
       "      <td>0</td>\n",
       "    </tr>\n",
       "  </tbody>\n",
       "</table>\n",
       "<p>23501 rows × 4 columns</p>\n",
       "</div>"
      ],
      "text/plain": [
       "       video_id  video_frame annotations  count\n",
       "0             0            0          []      0\n",
       "1             0            1          []      0\n",
       "2             0            2          []      0\n",
       "3             0            3          []      0\n",
       "4             0            4          []      0\n",
       "...         ...          ...         ...    ...\n",
       "23496         2        10755          []      0\n",
       "23497         2        10756          []      0\n",
       "23498         2        10757          []      0\n",
       "23499         2        10758          []      0\n",
       "23500         2        10759          []      0\n",
       "\n",
       "[23501 rows x 4 columns]"
      ]
     },
     "execution_count": 5,
     "metadata": {},
     "output_type": "execute_result"
    }
   ],
   "source": [
    "data['count'] = 0\n",
    "for i in range(0, len(data['annotations'])):\n",
    "    data['count'][i] = len(data['annotations'][i])\n",
    "data"
   ]
  },
  {
   "cell_type": "markdown",
   "id": "c2766dbc",
   "metadata": {},
   "source": [
    "### Split data into training and testing dataframes"
   ]
  },
  {
   "cell_type": "code",
   "execution_count": 6,
   "id": "8e01c715",
   "metadata": {},
   "outputs": [
    {
     "data": {
      "text/html": [
       "<div>\n",
       "<style scoped>\n",
       "    .dataframe tbody tr th:only-of-type {\n",
       "        vertical-align: middle;\n",
       "    }\n",
       "\n",
       "    .dataframe tbody tr th {\n",
       "        vertical-align: top;\n",
       "    }\n",
       "\n",
       "    .dataframe thead th {\n",
       "        text-align: right;\n",
       "    }\n",
       "</style>\n",
       "<table border=\"1\" class=\"dataframe\">\n",
       "  <thead>\n",
       "    <tr style=\"text-align: right;\">\n",
       "      <th></th>\n",
       "      <th>video_id</th>\n",
       "      <th>video_frame</th>\n",
       "      <th>annotations</th>\n",
       "      <th>count</th>\n",
       "    </tr>\n",
       "  </thead>\n",
       "  <tbody>\n",
       "    <tr>\n",
       "      <th>0</th>\n",
       "      <td>0</td>\n",
       "      <td>0</td>\n",
       "      <td>[]</td>\n",
       "      <td>0</td>\n",
       "    </tr>\n",
       "    <tr>\n",
       "      <th>1</th>\n",
       "      <td>0</td>\n",
       "      <td>1</td>\n",
       "      <td>[]</td>\n",
       "      <td>0</td>\n",
       "    </tr>\n",
       "    <tr>\n",
       "      <th>2</th>\n",
       "      <td>0</td>\n",
       "      <td>2</td>\n",
       "      <td>[]</td>\n",
       "      <td>0</td>\n",
       "    </tr>\n",
       "    <tr>\n",
       "      <th>3</th>\n",
       "      <td>0</td>\n",
       "      <td>3</td>\n",
       "      <td>[]</td>\n",
       "      <td>0</td>\n",
       "    </tr>\n",
       "    <tr>\n",
       "      <th>4</th>\n",
       "      <td>0</td>\n",
       "      <td>4</td>\n",
       "      <td>[]</td>\n",
       "      <td>0</td>\n",
       "    </tr>\n",
       "    <tr>\n",
       "      <th>...</th>\n",
       "      <td>...</td>\n",
       "      <td>...</td>\n",
       "      <td>...</td>\n",
       "      <td>...</td>\n",
       "    </tr>\n",
       "    <tr>\n",
       "      <th>795</th>\n",
       "      <td>0</td>\n",
       "      <td>1188</td>\n",
       "      <td>[]</td>\n",
       "      <td>0</td>\n",
       "    </tr>\n",
       "    <tr>\n",
       "      <th>796</th>\n",
       "      <td>0</td>\n",
       "      <td>1189</td>\n",
       "      <td>[]</td>\n",
       "      <td>0</td>\n",
       "    </tr>\n",
       "    <tr>\n",
       "      <th>797</th>\n",
       "      <td>0</td>\n",
       "      <td>1190</td>\n",
       "      <td>[]</td>\n",
       "      <td>0</td>\n",
       "    </tr>\n",
       "    <tr>\n",
       "      <th>798</th>\n",
       "      <td>0</td>\n",
       "      <td>1191</td>\n",
       "      <td>[]</td>\n",
       "      <td>0</td>\n",
       "    </tr>\n",
       "    <tr>\n",
       "      <th>799</th>\n",
       "      <td>0</td>\n",
       "      <td>1192</td>\n",
       "      <td>[]</td>\n",
       "      <td>0</td>\n",
       "    </tr>\n",
       "  </tbody>\n",
       "</table>\n",
       "<p>800 rows × 4 columns</p>\n",
       "</div>"
      ],
      "text/plain": [
       "     video_id  video_frame annotations  count\n",
       "0           0            0          []      0\n",
       "1           0            1          []      0\n",
       "2           0            2          []      0\n",
       "3           0            3          []      0\n",
       "4           0            4          []      0\n",
       "..        ...          ...         ...    ...\n",
       "795         0         1188          []      0\n",
       "796         0         1189          []      0\n",
       "797         0         1190          []      0\n",
       "798         0         1191          []      0\n",
       "799         0         1192          []      0\n",
       "\n",
       "[800 rows x 4 columns]"
      ]
     },
     "execution_count": 6,
     "metadata": {},
     "output_type": "execute_result"
    }
   ],
   "source": [
    "training_df = data[0:split_ratio]\n",
    "testing_df = data[split_ratio:]\n",
    "training_df"
   ]
  },
  {
   "cell_type": "markdown",
   "id": "1dc1c176",
   "metadata": {},
   "source": [
    "# Collect hog features for images in training size"
   ]
  },
  {
   "cell_type": "code",
   "execution_count": 7,
   "id": "dd9e3e9f",
   "metadata": {},
   "outputs": [],
   "source": [
    "window_size = (720, 1280)   # Change to (64, 128) for quicker collection\n",
    "\n",
    "train_images = []\n",
    "hog_images = []\n",
    "\n",
    "cots_df = []\n",
    "no_cots_df = []\n",
    "\n",
    "cots_features = []\n",
    "no_cots_features = []\n",
    "\n",
    "cots_labels = []\n",
    "no_cots_labels = []\n",
    "\n",
    "for i in range(0, len(training_df['video_id'])):\n",
    "    video_id = str(training_df['video_id'][i])\n",
    "    frame_id = str(training_df['video_frame'][i])\n",
    "    path = 'train_images/video_'+video_id+'/'+frame_id+'.jpg'\n",
    "    img = cv2.imread(path, cv2.COLOR_BGR2RGB)\n",
    "    train_images.append(img)\n",
    "    \n",
    "    if training_df['count'][i] == 0:\n",
    "        # If no COTS in image\n",
    "        img = cv2.cvtColor(img, cv2.COLOR_RGB2GRAY)\n",
    "        img = cv2.resize(img, window_size)\n",
    "        no_cots_df.append(img)\n",
    "        feature = hog(img, orientations=9, pixels_per_cell=(8,8), cells_per_block=(2,2), visualize=False, feature_vector=True)\n",
    "        no_cots_features.append(feature)\n",
    "        no_cots_labels.append(0)\n",
    "    else:\n",
    "        # If COTS is in image\n",
    "        for j in training_df['annotations'][i]:\n",
    "            cots = img[j['y']:j['y']+j['height'], j['x']:j['x']+j['width']]\n",
    "            cots = cv2.cvtColor(cots, cv2.COLOR_RGB2GRAY)\n",
    "            cots = cv2.resize(cots, window_size)\n",
    "            cots_df.append(cots)\n",
    "            feature, hog_image = hog(cots, orientations=9, pixels_per_cell=(8,8), cells_per_block=(2,2), visualize=True, feature_vector=True)\n",
    "            cots_features.append(feature)\n",
    "            hog_images.append(hog_image)\n",
    "            cots_labels.append(training_df['count'][i])\n"
   ]
  },
  {
   "cell_type": "markdown",
   "id": "37404655",
   "metadata": {},
   "source": [
    "### Split into testing and training for SVM"
   ]
  },
  {
   "cell_type": "code",
   "execution_count": 8,
   "id": "6516c40b",
   "metadata": {},
   "outputs": [
    {
     "name": "stdout",
     "output_type": "stream",
     "text": [
      "(830, 509437)\n"
     ]
    }
   ],
   "source": [
    "x = np.asarray(cots_features + no_cots_features)\n",
    "y = np.asarray(cots_labels + no_cots_labels)\n",
    "y =  np.array(y).reshape(len(y),1)\n",
    "data_frame = np.hstack((x,y))\n",
    "print(data_frame.shape)\n",
    "np.random.shuffle(data_frame)\n",
    "\n",
    "percentage = 80\n",
    "partition = int(len(x)*percentage/100)\n",
    "\n",
    "x_train, x_test = data_frame[:partition,:-1],  data_frame[partition:,:-1]\n",
    "y_train, y_test = data_frame[:partition,-1:].ravel() , data_frame[partition:,-1:].ravel()"
   ]
  },
  {
   "cell_type": "markdown",
   "id": "b093ab7b",
   "metadata": {},
   "source": [
    "## Predict with split testing data and print results"
   ]
  },
  {
   "cell_type": "code",
   "execution_count": 9,
   "id": "a2060b98",
   "metadata": {},
   "outputs": [
    {
     "name": "stdout",
     "output_type": "stream",
     "text": [
      "Accuracy:  0.9819277108433735\n",
      "Precision:  0.9511111111111111\n",
      "Recall:  0.967418546365915\n",
      "F1 Score:  0.958894724823019\n",
      "F2 Score:  0.9639154186331712\n"
     ]
    }
   ],
   "source": [
    "model = LinearSVC()\n",
    "model.fit(x_train, y_train)\n",
    "# Get predicitions on test data using model\n",
    "y_pred = model.predict(x_test)\n",
    "print(\"Accuracy: \", accuracy_score(y_test, y_pred))\n",
    "print(\"Precision: \", precision_score(y_test, y_pred, average='macro'))\n",
    "print(\"Recall: \", recall_score(y_test, y_pred, average='macro'))\n",
    "print(\"F1 Score: \", fbeta_score(y_test, y_pred, beta=1, average='macro'))\n",
    "print(\"F2 Score: \", fbeta_score(y_test, y_pred, beta=2, average='macro'))"
   ]
  },
  {
   "cell_type": "markdown",
   "id": "60e3b046",
   "metadata": {},
   "source": [
    "## Random Images Selection Functions\n",
    "- get_random_images() => Get random images from a folder of images\n",
    "- store_images() => Store images using image paths in folder 'test_images'"
   ]
  },
  {
   "cell_type": "code",
   "execution_count": 10,
   "id": "57ea5c01",
   "metadata": {},
   "outputs": [],
   "source": [
    "def get_random_images(image_folder, num_images):\n",
    "    image_paths = []\n",
    "    while (len(image_paths) < num_images):\n",
    "        for dir1 in os.listdir(image_folder):\n",
    "            for dir2 in os.listdir(os.path.join(image_folder, dir1)):\n",
    "                image_path = os.path.join(image_folder, dir1, dir2)\n",
    "                if (random.randint(0,10000) > 9999 and len(image_paths) < 10):\n",
    "                    image_paths.append(image_path)\n",
    "\n",
    "    return image_paths"
   ]
  },
  {
   "cell_type": "code",
   "execution_count": 11,
   "id": "e1394293",
   "metadata": {},
   "outputs": [],
   "source": [
    "def store_images(image_paths):\n",
    "    os.makedirs('test_images')\n",
    "    for i in range(0, len(image_paths)):\n",
    "        shutil.copy(image_paths[i], 'test_images')"
   ]
  },
  {
   "cell_type": "markdown",
   "id": "f84471be",
   "metadata": {},
   "source": [
    "### Select random images from train_images and store in test_images\n",
    "Make sure 'test_images' directory does not exist when running this"
   ]
  },
  {
   "cell_type": "code",
   "execution_count": 12,
   "id": "1f0302fa",
   "metadata": {},
   "outputs": [
    {
     "name": "stdout",
     "output_type": "stream",
     "text": [
      "['train_images/video_2/9625.jpg', 'train_images/video_2/631.jpg', 'train_images/video_2/10623.jpg', 'train_images/video_0/9910.jpg', 'train_images/video_2/4197.jpg', 'train_images/video_2/5115.jpg', 'train_images/video_1/4462.jpg', 'train_images/video_0/9572.jpg', 'train_images/video_2/9478.jpg', 'train_images/video_1/8604.jpg']\n"
     ]
    }
   ],
   "source": [
    "num_of_test_images = 10     # Change this to the number of images you want to test\n",
    "\n",
    "test_images = get_random_images('train_images', num_of_test_images)\n",
    "store_images(test_images)\n",
    "print(test_images)"
   ]
  },
  {
   "cell_type": "code",
   "execution_count": 13,
   "id": "af6aeca5",
   "metadata": {},
   "outputs": [],
   "source": [
    "def get_image_paths(image_folder):\n",
    "    image_paths = []\n",
    "    for dir1 in os.listdir(image_folder):\n",
    "        image_path = os.path.join(image_folder, dir1)\n",
    "        image_paths.append(image_path)\n",
    "            \n",
    "    return image_paths"
   ]
  },
  {
   "cell_type": "markdown",
   "id": "b093ab7b",
   "metadata": {},
   "source": [
    "## Predict with random testing data and print results\n",
    "NOTE: Manually fill in test_y_tests with number of COTS in each test image to show results"
   ]
  },
  {
   "cell_type": "code",
   "execution_count": 14,
   "id": "1398ecdc",
   "metadata": {},
   "outputs": [
    {
     "name": "stdout",
     "output_type": "stream",
     "text": [
      "Accuracy:  0.8\n",
      "Precision:  0.4\n",
      "Recall:  0.5\n",
      "F1 Score:  0.4444444444444445\n",
      "F2 Score:  0.47619047619047616\n"
     ]
    },
    {
     "name": "stderr",
     "output_type": "stream",
     "text": [
      "/Users/joeljose/opt/anaconda3/envs/cotsenv/lib/python3.9/site-packages/sklearn/metrics/_classification.py:1334: UndefinedMetricWarning: Precision is ill-defined and being set to 0.0 in labels with no predicted samples. Use `zero_division` parameter to control this behavior.\n",
      "  _warn_prf(average, modifier, msg_start, len(result))\n"
     ]
    }
   ],
   "source": [
    "test_images = get_image_paths('test_images')\n",
    "\n",
    "test_y_preds = []\n",
    "test_y_tests = [[0], [0], [1], [0], [0], [0], [0], [0], [1], [0]]   # Manually modify to match test images\n",
    "\n",
    "# Get predicitions on test_data images using model\n",
    "i = 0\n",
    "for image in test_images:\n",
    "    img = cv2.imread(image, cv2.COLOR_BGR2RGB)\n",
    "    img = cv2.cvtColor(img, cv2.COLOR_RGB2GRAY)\n",
    "    img = cv2.resize(img, window_size)\n",
    "    feature = hog(img, orientations=9, pixels_per_cell=(8,8), cells_per_block=(2,2), visualize=False, feature_vector=True)\n",
    "    test_y_pred = model.predict(feature.reshape(1,-1))\n",
    "    test_y_preds.append(test_y_pred)\n",
    "    i += 1\n",
    "\n",
    "print(\"Accuracy: \", accuracy_score(test_y_tests, test_y_preds))\n",
    "print(\"Precision: \", precision_score(test_y_tests, test_y_preds, average='macro'))\n",
    "print(\"Recall: \", recall_score(test_y_tests, test_y_preds, average='macro'))\n",
    "print(\"F1 Score: \", fbeta_score(test_y_tests, test_y_preds, beta=1, average='macro'))\n",
    "print(\"F2 Score: \", fbeta_score(test_y_tests, test_y_preds, beta=2, average='macro'))\n"
   ]
  }
 ],
 "metadata": {
  "kernelspec": {
   "display_name": "Python 3.9.7 ('cotsenv')",
   "language": "python",
   "name": "python3"
  },
  "language_info": {
   "codemirror_mode": {
    "name": "ipython",
    "version": 3
   },
   "file_extension": ".py",
   "mimetype": "text/x-python",
   "name": "python",
   "nbconvert_exporter": "python",
   "pygments_lexer": "ipython3",
   "version": "3.9.7"
  },
  "vscode": {
   "interpreter": {
    "hash": "abbac26dc339ae0588c7ffd52f5050e511888da33c6bde075b35c45e09f0f307"
   }
  }
 },
 "nbformat": 4,
 "nbformat_minor": 5
}
